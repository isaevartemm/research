{
  "nbformat": 4,
  "nbformat_minor": 0,
  "metadata": {
    "colab": {
      "name": "interview practice.ipynb",
      "provenance": [],
      "toc_visible": true
    },
    "kernelspec": {
      "name": "python3",
      "display_name": "Python 3"
    },
    "language_info": {
      "name": "python"
    }
  },
  "cells": [
    {
      "cell_type": "code",
      "metadata": {
        "id": "msS4h_FsdbDR"
      },
      "source": [
        "from sklearn.datasets import make_regression, make_classification, make_moons\n",
        "from sklearn.model_selection import train_test_split\n",
        "from sklearn.metrics import accuracy_score\n",
        "import matplotlib.pyplot as plt\n",
        "import numpy as np"
      ],
      "execution_count": 1,
      "outputs": []
    },
    {
      "cell_type": "markdown",
      "metadata": {
        "id": "3DwAvJycKL-K"
      },
      "source": [
        "# Neural Network classification"
      ]
    },
    {
      "cell_type": "code",
      "metadata": {
        "id": "bTOWj2U5Pvos"
      },
      "source": [
        "n = 10 # 10 features\n",
        "X, y = make_classification(1000, n, n, 0, n_clusters_per_class=1, n_classes=2)\n",
        "X_train, X_test, y_train, y_test = train_test_split(X, y)"
      ],
      "execution_count": 24,
      "outputs": []
    },
    {
      "cell_type": "code",
      "metadata": {
        "colab": {
          "base_uri": "https://localhost:8080/"
        },
        "id": "8Cj7OVETKN-Q",
        "outputId": "724a7a2d-8eb6-4664-a0d3-8121d44471c6"
      },
      "source": [
        "net_structure = np.array([3, 3, 1]) # 3 neurons on 1st layer 3 on 2nd 1 on 3rd\n",
        "\n",
        "# activation for each layer\n",
        "activations = np.array(['sigmoid' for i in range(net_structure.shape[0])])\n",
        "\n",
        "def relu(x: np.array, axis = 0):\n",
        "  x[x <= 0] = 0\n",
        "  return x\n",
        "\n",
        "def sigmoid(x):\n",
        "  return 1 / (1 + np.exp(-x))\n",
        "\n",
        "def log_loss_cost(y, y_true):\n",
        "  delta = 1e-8\n",
        "  return np.mean(-(y_true * np.log(y + delta) + (1 - y) * np.log(1 - y_true + delta)))\n",
        "\n",
        "def transform_dz(dz):\n",
        "  # helper function\n",
        "  new_dz = dict()\n",
        "  new_dz['W'] = dict()\n",
        "  new_dz['b'] = dict()\n",
        "\n",
        "  for i in dz.keys():\n",
        "    new_dz['W'][i] = dz[i]['W']\n",
        "    new_dz['b'][i] = dz[i]['b']\n",
        "\n",
        "  return new_dz\n",
        "\n",
        "def init_weights(X, net_structure = np.array([3, 2, 1])):\n",
        "\n",
        "  # W, b weights dict for W[1] weights of 1st layer\n",
        "  W = dict()\n",
        "  b = dict()\n",
        "\n",
        "  l, r = -1, 1\n",
        "\n",
        "  W[1] = np.random.uniform(l, r, (net_structure[0], X.shape[1]))\n",
        "  b[1] = np.random.uniform(l, r, (net_structure[0], 1))\n",
        "\n",
        "  for i in range(1, net_structure.shape[0]):\n",
        "    W[i+1] = np.random.uniform(l, r, (net_structure[i], net_structure[i-1]))\n",
        "    b[i+1] = np.random.uniform(l, r, (net_structure[i], 1))\n",
        "\n",
        "  return {'W': W, 'b': b}\n",
        "\n",
        "def forward_pass(X, net_structure, weights, activations):\n",
        "  \n",
        "  # A : activations for all layers A[l] - l'th layer\n",
        "  A = dict()\n",
        "\n",
        "  # first layer calculation\n",
        "  if activations[0] == 'sigmoid':\n",
        "      A[1] = sigmoid(X @ weights['W'][1].T + weights['b'][1].T)\n",
        "  elif activations[0] == 'relu':\n",
        "      A[1] = relu(X @ weights['W'][1].T + weights['b'][1].T)\n",
        "\n",
        "  for i in range(2, net_structure.shape[0]+1):\n",
        "    if activations[i-1] == 'sigmoid':\n",
        "      A[i] = sigmoid(A[i-1] @ weights['W'][i].T + weights['b'][i].T)\n",
        "    elif activations[i-1] == 'relu':\n",
        "      A[i] = relu(A[i-1] @ weights['W'][i].T + weights['b'][i].T)\n",
        "  \n",
        "  return A\n",
        "\n",
        "def backward_pass(X, y, net_structure, weights, A,  activations):\n",
        "  W, b = weights['W'], weights['b']\n",
        "\n",
        "  #derivatives of all layers dz[l] - l'th layer\n",
        "\n",
        "  dz = dict()\n",
        "\n",
        "  #last layer\n",
        "\n",
        "  layer = net_structure.shape[0]\n",
        "\n",
        "  if activations[0] == 'sigmoid':\n",
        "    dz[layer] = dict()\n",
        "    dz[layer]['W'] = np.zeros(W[layer].shape)\n",
        "    dz[layer]['b'] = np.zeros(b[layer].shape)\n",
        "\n",
        "    #print(W[layer].shape)\n",
        "\n",
        "    for i in range(net_structure[layer-1]):\n",
        "      W_transposed = W[layer][i].reshape(W[layer][i].shape[0], 1)\n",
        "      derivative = sigmoid(A[layer-1] @ W_transposed + b[layer][i]) - y.reshape(y.shape[0], 1)\n",
        "      dz[layer]['W'][i, :] = np.mean(derivative * A[layer-1], axis = 0, keepdims=True)\n",
        "      dz[layer]['b'][i] = np.mean(derivative, axis = 0, keepdims=True)\n",
        "\n",
        "  #hidden layers -  dz is multiplied with dz from l+1 layer\n",
        "  for layer in range(net_structure.shape[0]-1, 1, -1):\n",
        "    if activations[0] == 'sigmoid':\n",
        "      dz[layer] = dict()\n",
        "      dz[layer]['W'] = np.zeros(W[layer].shape)\n",
        "      dz[layer]['b'] = np.zeros(b[layer].shape)\n",
        "\n",
        "      #print(W[layer].shape)\n",
        "\n",
        "      for i in range(net_structure[layer-1]):\n",
        "        W_transposed = W[layer][i].reshape(W[layer][i].shape[0], 1)\n",
        "        derivative = sigmoid(A[layer-1] @ W_transposed + b[layer][i]) - y.reshape(y.shape[0], 1)\n",
        "        dz[layer]['W'][i, :] = np.mean(derivative * A[layer-1], axis = 0, keepdims=True)\n",
        "        dz[layer]['b'][i] = np.mean(derivative, axis = 0, keepdims=True)\n",
        "\n",
        "      dz[layer]['W'] = dz[layer]['W'] * np.mean(dz[layer+1]['W'].T, axis = 1).reshape(dz[layer]['W'].shape[0], 1)\n",
        "      \n",
        "      # MAY BE HERE\n",
        "      #dz[layer]['b'] = dz[layer]['b'] * np.mean(dz[layer+1]['b'].T, axis = 1).reshape(dz[layer+1]['b'].shape[0], 1)\n",
        "      dz[layer]['b'] = dz[layer]['b'] * np.mean(dz[layer+1]['b'].T, axis = 1)\n",
        "\n",
        "    \n",
        "\n",
        "  #first layer X instead of A[l-1]\n",
        "\n",
        "  if activations[0] == 'sigmoid':\n",
        "    dz[1] = dict()\n",
        "    dz[1]['W'] = np.zeros(W[1].shape)\n",
        "    dz[1]['b'] = np.zeros(b[1].shape)\n",
        "\n",
        "    for i in range(net_structure[0]):\n",
        "      W_transposed = W[1][i].reshape(W[1][i].shape[0], 1)\n",
        "      derivative = sigmoid(X @ W_transposed + b[1][i]) - y.reshape(y.shape[0], 1)\n",
        "      dz[1]['W'][i, :] = np.mean(derivative * X, axis = 0, keepdims=True)\n",
        "      dz[1]['b'][i] = np.mean(derivative, axis = 0, keepdims=True)\n",
        "\n",
        "    dz[1]['W'] = dz[1]['W'] * np.mean(dz[2]['W'].T, axis = 1).reshape(dz[1]['W'].shape[0], 1)\n",
        "    dz[1]['b'] = dz[1]['b'] * np.mean(dz[2]['b'].T, axis = 1)\n",
        "  \n",
        "\n",
        "  return transform_dz(dz) #{'W': np.mean(dz * X, axis=0, keepdims=True), 'b': np.mean(dz)}\n",
        "\n",
        "def update_weights(weights, dz, learning_rate = 0.01, logging = False):\n",
        "  \n",
        "  for j in ['W', 'b']:\n",
        "    for i in weights[j].keys():\n",
        "      weights[j][i] -= learning_rate * dz[j][i]\n",
        "      if logging: print(j, i, 'weights:', weights[j][i].shape, 'dz', dz[j][i].shape)\n",
        "\n",
        "  return weights\n",
        "\n",
        "def fit(X, y, iterations = 200, learning_rate = 0.01, logging = False):\n",
        "  \n",
        "  global weights\n",
        "  weights = init_weights(X, net_structure)\n",
        "\n",
        "  for i in range(iterations):\n",
        "    A = forward_pass(X, net_structure, weights, activations)\n",
        "    dz = backward_pass(X, y, net_structure, weights, A, activations)\n",
        "    weights = update_weights(weights, dz, learning_rate)\n",
        "    if i % 100 == 0 and logging == True:\n",
        "      print(log_loss_cost(A[net_structure.shape[0]], y))\n",
        "  \n",
        "    \"\"\"print(weights)\n",
        "    print(dz)\n",
        "    print()\"\"\"\n",
        "\n",
        "def predict_proba(X):\n",
        "  return forward_pass(X, net_structure, weights, activations)[net_structure.shape[0]]\n",
        "\n",
        "def predict(X, threshold = 0.5):\n",
        "  return np.array([0 if i < threshold else 1 for i in predict_proba(X)])\n",
        "\n",
        "\n",
        "\n",
        "fit(X_train, y_train, 500, 0.1, logging=True)\n",
        "y_pred = predict(X_test)\n",
        "\n",
        "print('test score', accuracy_score(y_test, y_pred))\n",
        "print('train score', accuracy_score(predict(X_train), y_train))"
      ],
      "execution_count": 30,
      "outputs": [
        {
          "output_type": "stream",
          "text": [
            "1.354531677522379\n",
            "4.878399564733733\n",
            "4.912947751561955\n",
            "4.913422889779443\n",
            "4.913850776663406\n",
            "test score 0.868\n",
            "train score 0.808\n"
          ],
          "name": "stdout"
        }
      ]
    },
    {
      "cell_type": "markdown",
      "metadata": {
        "id": "DCNJU88zd5Ia"
      },
      "source": [
        "# Linear equation\n",
        "\n",
        "$ ax^2 + bx + c = d $"
      ]
    },
    {
      "cell_type": "code",
      "metadata": {
        "id": "-ylnD8TGd89P"
      },
      "source": [
        "a, b, c = [1, 2, 0]\n",
        "d = 100\n",
        "\n",
        "f = lambda x: a*x**2 + b*x + c"
      ],
      "execution_count": null,
      "outputs": []
    },
    {
      "cell_type": "code",
      "metadata": {
        "id": "aVVCcvUYfWri",
        "colab": {
          "base_uri": "https://localhost:8080/",
          "height": 281
        },
        "outputId": "42714298-287e-4197-f0b7-ff68c44711e5"
      },
      "source": [
        "l, r = -16, 15\n",
        "\n",
        "x = np.arange(l, r)\n",
        "y = f(x)\n",
        "\n",
        "plt.plot(x, y)\n",
        "plt.plot(x, [d for i in x])"
      ],
      "execution_count": null,
      "outputs": [
        {
          "output_type": "execute_result",
          "data": {
            "text/plain": [
              "[<matplotlib.lines.Line2D at 0x7fddccb59c10>]"
            ]
          },
          "metadata": {
            "tags": []
          },
          "execution_count": 3
        },
        {
          "output_type": "display_data",
          "data": {
            "image/png": "[encoded data removed]",
            "text/plain": [
              "<Figure size 432x288 with 1 Axes>"
            ]
          },
          "metadata": {
            "tags": [],
            "needs_background": "light"
          }
        }
      ]
    },
    {
      "cell_type": "code",
      "metadata": {
        "id": "BE9EgJF_6czy"
      },
      "source": [
        "def loss(x):\n",
        "  return abs(d - f(x))"
      ],
      "execution_count": null,
      "outputs": []
    },
    {
      "cell_type": "code",
      "metadata": {
        "colab": {
          "base_uri": "https://localhost:8080/",
          "height": 281
        },
        "id": "7CKI7RoW603q",
        "outputId": "832ca4b3-ccc2-46f5-b147-60cfdd8248f1"
      },
      "source": [
        "x = np.arange(l, r)\n",
        "y = f(x)\n",
        "\n",
        "plt.plot(x, y)\n",
        "plt.plot(x, [d for i in x])\n",
        "plt.plot(x, loss(x))"
      ],
      "execution_count": null,
      "outputs": [
        {
          "output_type": "execute_result",
          "data": {
            "text/plain": [
              "[<matplotlib.lines.Line2D at 0x7fddcc6c3e10>]"
            ]
          },
          "metadata": {
            "tags": []
          },
          "execution_count": 5
        },
        {
          "output_type": "display_data",
          "data": {
            "image/png": "[encoded data removed]",
            "text/plain": [
              "<Figure size 432x288 with 1 Axes>"
            ]
          },
          "metadata": {
            "tags": [],
            "needs_background": "light"
          }
        }
      ]
    },
    {
      "cell_type": "code",
      "metadata": {
        "colab": {
          "base_uri": "https://localhost:8080/"
        },
        "id": "q0lNE3ikhiM_",
        "outputId": "26410ec1-cad2-4c45-ba5a-6be9866abe0f"
      },
      "source": [
        "# for center\n",
        "\n",
        "x_cur = r\n",
        "x_path = []\n",
        "\n",
        "deriv = lambda x: 2*a*x + b\n",
        "\n",
        "alpha = 0.01\n",
        "\n",
        "for i in range(300):\n",
        "  x_cur -= alpha * deriv(x_cur)\n",
        "  x_path.append(x_cur)\n",
        "\n",
        "print(x_cur)\n",
        "x_path = np.array(x_path)"
      ],
      "execution_count": null,
      "outputs": [
        {
          "output_type": "stream",
          "text": [
            "-0.962679909312777\n"
          ],
          "name": "stdout"
        }
      ]
    },
    {
      "cell_type": "code",
      "metadata": {
        "colab": {
          "base_uri": "https://localhost:8080/"
        },
        "id": "MZusV56M73gr",
        "outputId": "4606524c-7dfc-4a05-9c67-598faa4103c4"
      },
      "source": [
        "# for solution\n",
        "\n",
        "x_cur = x_cur\n",
        "x_path_solution = []\n",
        "\n",
        "deriv = lambda x: 2*a*x + b if f(x) > d else -2*a*x - b\n",
        "\n",
        "alpha = 0.01\n",
        "\n",
        "for i in range(300):\n",
        "  x_cur -= alpha * deriv(x_cur)\n",
        "  x_path_solution.append(x_cur)\n",
        "\n",
        "print(x_cur)\n",
        "x_path_solution = np.array(x_path_solution)"
      ],
      "execution_count": null,
      "outputs": [
        {
          "output_type": "stream",
          "text": [
            "8.899821278636061\n"
          ],
          "name": "stdout"
        }
      ]
    },
    {
      "cell_type": "code",
      "metadata": {
        "colab": {
          "base_uri": "https://localhost:8080/",
          "height": 281
        },
        "id": "MWNR2nNtjWfO",
        "outputId": "5fba932e-f501-40bb-9203-d75e2b04aa85"
      },
      "source": [
        "plt.plot(x, y)\n",
        "plt.plot(x, [d for i in x])\n",
        "plt.plot(x, loss(x))\n",
        "plt.scatter(x_path_solution, f(x_path_solution))\n",
        "plt.scatter(x_path, f(x_path))"
      ],
      "execution_count": null,
      "outputs": [
        {
          "output_type": "execute_result",
          "data": {
            "text/plain": [
              "<matplotlib.collections.PathCollection at 0x7fddcc5d1c50>"
            ]
          },
          "metadata": {
            "tags": []
          },
          "execution_count": 8
        },
        {
          "output_type": "display_data",
          "data": {
            "image/png": "[encoded data removed]",
            "text/plain": [
              "<Figure size 432x288 with 1 Axes>"
            ]
          },
          "metadata": {
            "tags": [],
            "needs_background": "light"
          }
        }
      ]
    },
    {
      "cell_type": "markdown",
      "metadata": {
        "id": "R3GQDJNmdcCv"
      },
      "source": [
        "# Linear Regression\n",
        "\n",
        "$ y = wx + b $"
      ]
    },
    {
      "cell_type": "code",
      "metadata": {
        "id": "6vn_lZKndf1_"
      },
      "source": [
        "X, y = make_regression(100, 1, 1, 1, 10, noise=10)\n",
        "X_train, X_test, y_train, y_test = train_test_split(X, y)"
      ],
      "execution_count": null,
      "outputs": []
    },
    {
      "cell_type": "code",
      "metadata": {
        "colab": {
          "base_uri": "https://localhost:8080/"
        },
        "id": "UGb0tlKpyFY5",
        "outputId": "3f9e7bae-72a0-4ce9-eaa2-0ea3da2fc412"
      },
      "source": [
        "X.shape"
      ],
      "execution_count": null,
      "outputs": [
        {
          "output_type": "execute_result",
          "data": {
            "text/plain": [
              "(100, 1)"
            ]
          },
          "metadata": {
            "tags": []
          },
          "execution_count": 10
        }
      ]
    },
    {
      "cell_type": "code",
      "metadata": {
        "colab": {
          "base_uri": "https://localhost:8080/",
          "height": 265
        },
        "id": "lJCCI278mCXb",
        "outputId": "3d341728-4614-4aa2-d1a3-b9337f9ea07f"
      },
      "source": [
        "plt.scatter(X_train[:, 0], y_train)\n",
        "plt.scatter(X_test[:, 0], y_test)\n",
        "plt.grid()"
      ],
      "execution_count": null,
      "outputs": [
        {
          "output_type": "display_data",
          "data": {
            "image/png": "[encoded data removed]",
            "text/plain": [
              "<Figure size 432x288 with 1 Axes>"
            ]
          },
          "metadata": {
            "tags": [],
            "needs_background": "light"
          }
        }
      ]
    },
    {
      "cell_type": "code",
      "metadata": {
        "id": "yaWmYY9gtYy4"
      },
      "source": [
        "def f(X, W, b):\n",
        "  return X@W + b\n",
        "\n",
        "def deriv(W, b, X, y):\n",
        "  return {'W': np.mean(2 * (f(X, W, b) - y.reshape(y.shape[0], 1)) * X, axis = 0, keepdims=True).T, \\\n",
        "          'b': np.mean(2 * (f(X, W, b) - y.reshape(y.shape[0], 1)), axis = 0, keepdims=True)}\n",
        "\n",
        "def MSE(X, y):\n",
        "  return np.mean(np.power(f(X, W, b) - y, 2))\n",
        "\n",
        "def fit(X, y):\n",
        "  alpha = 0.01\n",
        "\n",
        "  W = np.zeros(X.shape[1]).reshape(X.shape[1], 1)\n",
        "  b = 0\n",
        "\n",
        "  for i in np.arange(100):\n",
        "    W -= deriv(W, b, X, y)['W'] * alpha\n",
        "    b -= deriv(W, b, X, y)['b'] * alpha\n",
        "  \n",
        "  return W, b\n",
        "\n",
        "def predict(X, y, W, b):\n",
        "  return X@W + b\n",
        "\n",
        "W, b = fit(X_train, y_train)\n",
        "\n",
        "f = lambda x: W * x + b"
      ],
      "execution_count": null,
      "outputs": []
    },
    {
      "cell_type": "code",
      "metadata": {
        "colab": {
          "base_uri": "https://localhost:8080/",
          "height": 268
        },
        "id": "iY_by2en06iq",
        "outputId": "0bc4d2d3-eeee-4102-ca25-f9ff92368741"
      },
      "source": [
        "plt.scatter(X_train[:, 0], y_train)\n",
        "plt.scatter(X_test[:, 0], y_test)\n",
        "plt.plot(np.linspace(-2, 3, 50), f(np.linspace(-2, 3, 50)).T)\n",
        "plt.grid()"
      ],
      "execution_count": null,
      "outputs": [
        {
          "output_type": "display_data",
          "data": {
            "image/png": "[encoded data removed]",
            "text/plain": [
              "<Figure size 432x288 with 1 Axes>"
            ]
          },
          "metadata": {
            "tags": [],
            "needs_background": "light"
          }
        }
      ]
    },
    {
      "cell_type": "code",
      "metadata": {
        "id": "APIL1u6k07tp"
      },
      "source": [
        "X, y = make_moons(1000)\n",
        "X_train, X_test, y_train, y_test = train_test_split(X, y)"
      ],
      "execution_count": null,
      "outputs": []
    },
    {
      "cell_type": "code",
      "metadata": {
        "colab": {
          "base_uri": "https://localhost:8080/"
        },
        "id": "Ic_1kiEsZygn",
        "outputId": "b0f6075c-10ad-4b71-893a-f0f92b163e61"
      },
      "source": [
        "X_train.shape"
      ],
      "execution_count": null,
      "outputs": [
        {
          "output_type": "execute_result",
          "data": {
            "text/plain": [
              "(750, 2)"
            ]
          },
          "metadata": {
            "tags": []
          },
          "execution_count": 438
        }
      ]
    },
    {
      "cell_type": "code",
      "metadata": {
        "colab": {
          "base_uri": "https://localhost:8080/",
          "height": 281
        },
        "id": "4raFm96xZnM2",
        "outputId": "2cc85a0e-40fa-4749-bdfd-621d86b82026"
      },
      "source": [
        "plt.scatter(X[:,0], X[:,1])"
      ],
      "execution_count": null,
      "outputs": [
        {
          "output_type": "execute_result",
          "data": {
            "text/plain": [
              "<matplotlib.collections.PathCollection at 0x7fddc7fe5550>"
            ]
          },
          "metadata": {
            "tags": []
          },
          "execution_count": 443
        },
        {
          "output_type": "display_data",
          "data": {
            "image/png": "[encoded data removed]",
            "text/plain": [
              "<Figure size 432x288 with 1 Axes>"
            ]
          },
          "metadata": {
            "tags": [],
            "needs_background": "light"
          }
        }
      ]
    },
    {
      "cell_type": "markdown",
      "metadata": {
        "id": "O3gxCQ5OdgoQ"
      },
      "source": [
        "# Logistic Regression"
      ]
    },
    {
      "cell_type": "code",
      "metadata": {
        "id": "-UhRkD6NdeRf"
      },
      "source": [
        "X, y = make_moons(1000)\n",
        "X_train, X_test, y_train, y_test = train_test_split(X, y)"
      ],
      "execution_count": null,
      "outputs": []
    },
    {
      "cell_type": "code",
      "metadata": {
        "colab": {
          "base_uri": "https://localhost:8080/",
          "height": 281
        },
        "id": "43XdDZenBQrq",
        "outputId": "1c50db29-1df5-4c63-eb73-16fd55b5d43d"
      },
      "source": [
        "plt.scatter(X_train[:, 0], y_train)\n",
        "plt.scatter(X_test[:, 0], y_test)"
      ],
      "execution_count": null,
      "outputs": [
        {
          "output_type": "execute_result",
          "data": {
            "text/plain": [
              "<matplotlib.collections.PathCollection at 0x7fddc7f16850>"
            ]
          },
          "metadata": {
            "tags": []
          },
          "execution_count": 445
        },
        {
          "output_type": "display_data",
          "data": {
            "image/png": "[encoded data removed]",
            "text/plain": [
              "<Figure size 432x288 with 1 Axes>"
            ]
          },
          "metadata": {
            "tags": [],
            "needs_background": "light"
          }
        }
      ]
    },
    {
      "cell_type": "code",
      "metadata": {
        "id": "sd8lo8FZBWPp"
      },
      "source": [
        "def init_weights(X, y):\n",
        "  W = np.zeros((X_train.shape[1], 1))\n",
        "  b = 0\n",
        "  return {'W': W, 'b': b}\n",
        "\n",
        "def sigmoid(x):\n",
        "  return 1 / (1 + np.exp(-x))\n",
        "\n",
        "def log_loss_cost(y, y_true):\n",
        "  delta = 1e-5\n",
        "  return np.mean(-(y_true * np.log(y + delta) + (1 - y) * np.log(1 - y_true + delta)))\n",
        "\n",
        "def forward_pass(X, y, weights):\n",
        "  W, b = weights['W'], weights['b']\n",
        "\n",
        "  return sigmoid(X@W + b)\n",
        "\n",
        "def backward_pass(X, y, weights):\n",
        "  W, b = weights['W'], weights['b']\n",
        "\n",
        "  dz = sigmoid(X@W + b) - y.reshape(y.shape[0], 1)\n",
        "  return {'W': np.mean(dz * X, axis=0, keepdims=True), 'b': np.mean(dz)}\n",
        "\n",
        "def fit(X, y, lr = 0.01, iterations = 100):\n",
        "\n",
        "  global weights\n",
        "  weights = init_weights(X, y)\n",
        "\n",
        "  for i in range(iterations):\n",
        "    weights['W'] -= lr * backward_pass(X, y, weights)['W'].T\n",
        "    weights['b'] -= lr * backward_pass(X, y, weights)['b']\n",
        "    #print(log_loss_cost(forward_pass(X, y, weights), y))\n",
        "\n",
        "def predict_proba(X, y):\n",
        "  return forward_pass(X, y, weights)\n",
        "\n",
        "def predict(X, y, threshold = 0.5):\n",
        "  return np.array([0 if i < threshold else 1 for i in forward_pass(X, y, weights)])\n",
        "\n",
        "fit(X_train, y_train)\n",
        "y_pred = predict(X_test, y_test)"
      ],
      "execution_count": null,
      "outputs": []
    },
    {
      "cell_type": "code",
      "metadata": {
        "colab": {
          "base_uri": "https://localhost:8080/"
        },
        "id": "fOkeSrr8J0uh",
        "outputId": "a089d64a-3444-4e1c-9d5f-ddef778ccfa5"
      },
      "source": [
        "y_pred"
      ],
      "execution_count": null,
      "outputs": [
        {
          "output_type": "execute_result",
          "data": {
            "text/plain": [
              "array([0, 0, 0, 0, 1, 0, 0, 0, 1, 1, 0, 1, 0, 1, 0, 0, 0, 0, 1, 0, 1, 0,\n",
              "       0, 0, 0, 0, 0, 0, 1, 1, 1, 0, 1, 0, 0, 1, 1, 1, 1, 1, 1, 0, 1, 0,\n",
              "       0, 0, 0, 0, 0, 1, 0, 1, 1, 0, 0, 0, 0, 0, 1, 0, 0, 0, 0, 0, 0, 1,\n",
              "       1, 1, 1, 0, 1, 1, 0, 0, 0, 1, 0, 1, 0, 0, 0, 0, 1, 0, 0, 0, 0, 1,\n",
              "       1, 0, 1, 0, 1, 1, 1, 1, 0, 0, 1, 1, 1, 1, 1, 1, 1, 1, 1, 1, 1, 1,\n",
              "       0, 1, 1, 0, 1, 1, 1, 0, 0, 1, 0, 1, 0, 1, 1, 1, 1, 1, 1, 1, 1, 0,\n",
              "       1, 1, 0, 0, 1, 0, 1, 0, 1, 0, 0, 1, 1, 1, 1, 1, 1, 0, 1, 0, 0, 0,\n",
              "       0, 0, 1, 1, 0, 1, 1, 0, 0, 1, 0, 1, 0, 0, 1, 0, 1, 1, 0, 1, 0, 1,\n",
              "       1, 0, 0, 1, 0, 1, 1, 1, 1, 1, 1, 1, 0, 0, 0, 0, 1, 1, 1, 1, 0, 0,\n",
              "       0, 0])"
            ]
          },
          "metadata": {
            "tags": []
          },
          "execution_count": 465
        }
      ]
    },
    {
      "cell_type": "code",
      "metadata": {
        "colab": {
          "base_uri": "https://localhost:8080/"
        },
        "id": "U_x5sXQfKs0u",
        "outputId": "53ed1be7-4e0d-4dbb-b146-7efb9bd8eff4"
      },
      "source": [
        "y_test"
      ],
      "execution_count": null,
      "outputs": [
        {
          "output_type": "execute_result",
          "data": {
            "text/plain": [
              "array([0., 0., 1., 0., 1., 0., 0., 0., 1., 0., 0., 0., 1., 1., 0., 1., 1.,\n",
              "       0., 0., 1., 1., 0., 0., 0., 1., 0., 1., 0., 1., 0., 1., 1., 0., 1.,\n",
              "       0., 0., 1., 1., 0., 0., 1., 1., 0., 0., 0., 0., 0., 0., 0., 1., 0.,\n",
              "       0., 0., 1., 0., 0., 0., 1., 1., 1., 1., 1., 0., 1., 0., 1., 1., 1.,\n",
              "       1., 1., 1., 1., 0., 0., 0., 1., 0., 1., 0., 0., 0., 1., 1., 0., 0.,\n",
              "       0., 0., 1., 0., 0., 1., 1., 1., 0., 1., 1., 0., 0., 1., 1., 1., 0.,\n",
              "       1., 1., 1., 1., 1., 1., 1., 1., 0., 0., 0., 1., 1., 0., 1., 1., 1.,\n",
              "       1., 1., 1., 0., 1., 0., 1., 1., 1., 1., 1., 1., 0., 1., 1., 1., 1.,\n",
              "       1., 0., 1., 0., 1., 0., 0., 1., 0., 0., 1., 1., 1., 0., 1., 1., 0.,\n",
              "       0., 0., 0., 1., 0., 0., 1., 1., 0., 1., 1., 0., 1., 0., 1., 1., 1.,\n",
              "       0., 1., 0., 1., 0., 0., 1., 0., 0., 1., 1., 1., 0., 1., 1., 0., 1.,\n",
              "       1., 0., 1., 0., 0., 1., 1., 0., 0., 1., 0., 1., 0.])"
            ]
          },
          "metadata": {
            "tags": []
          },
          "execution_count": 466
        }
      ]
    },
    {
      "cell_type": "code",
      "metadata": {
        "colab": {
          "base_uri": "https://localhost:8080/"
        },
        "id": "bNLGI41YSsNf",
        "outputId": "6687b978-c6a0-4f4c-a8f8-78fa3fbd6ce1"
      },
      "source": [
        "accuracy_score(y_test, y_pred)"
      ],
      "execution_count": null,
      "outputs": [
        {
          "output_type": "execute_result",
          "data": {
            "text/plain": [
              "0.7"
            ]
          },
          "metadata": {
            "tags": []
          },
          "execution_count": 467
        }
      ]
    }
  ]
}